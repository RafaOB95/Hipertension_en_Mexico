{
 "cells": [
  {
   "cell_type": "code",
   "execution_count": 11,
   "id": "3357bda1-1719-4bac-914d-975a790c8ac7",
   "metadata": {},
   "outputs": [
    {
     "name": "stdout",
     "output_type": "stream",
     "text": [
      "✅ Gráficas generadas exitosamente (solo para variables disponibles). Carpeta: gráficas_limpias\n"
     ]
    }
   ],
   "source": [
    "import os\n",
    "import matplotlib.pyplot as plt\n",
    "import pandas as pd\n",
    "\n",
    "# Cargar el dataset limpio\n",
    "df_cleaned = pd.read_csv(\"variables_seleccionadas.csv\")\n",
    "\n",
    "# Crear carpeta de salida\n",
    "output_dir = \"gráficas_limpias\"\n",
    "os.makedirs(output_dir, exist_ok=True)\n",
    "\n",
    "# 1. Gráfico: Distribución de la variable objetivo\n",
    "plt.figure(figsize=(6, 4))\n",
    "df_cleaned['riesgo_hipertension'].value_counts().plot(kind='bar')\n",
    "plt.title(\"Distribución de la variable objetivo: Riesgo de Hipertensión\")\n",
    "plt.xlabel(\"Clase\")\n",
    "plt.ylabel(\"Cantidad de registros\")\n",
    "plt.xticks(ticks=[0, 1], labels=[\"No riesgo\", \"Con riesgo\"], rotation=0)\n",
    "plt.tight_layout()\n",
    "plt.savefig(f\"{output_dir}/fig_distribucion_objetivo.png\")\n",
    "plt.close()\n",
    "\n",
    "# 2. Gráfico: Distribución del IMC (si existe)\n",
    "if 'imc' in df_cleaned.columns:\n",
    "    plt.figure(figsize=(6, 4))\n",
    "    df_cleaned['imc'].plot(kind='hist', bins=30, edgecolor='black')\n",
    "    plt.title(\"Distribución del Índice de Masa Corporal (IMC)\")\n",
    "    plt.xlabel(\"IMC\")\n",
    "    plt.ylabel(\"Frecuencia\")\n",
    "    plt.tight_layout()\n",
    "    plt.savefig(f\"{output_dir}/fig_distribucion_imc.png\")\n",
    "    plt.close()\n",
    "\n",
    "# 3. Gráfico: Distribución de Glucosa en Ayuno (si existe)\n",
    "if 'resultado_glucosa' in df_cleaned.columns:\n",
    "    plt.figure(figsize=(6, 4))\n",
    "    df_cleaned['resultado_glucosa'].plot(kind='hist', bins=30, edgecolor='black')\n",
    "    plt.title(\"Distribución de Glucosa en Ayuno\")\n",
    "    plt.xlabel(\"Glucosa (mg/dL)\")\n",
    "    plt.ylabel(\"Frecuencia\")\n",
    "    plt.tight_layout()\n",
    "    plt.savefig(f\"{output_dir}/fig_distribucion_glucosa.png\")\n",
    "    plt.close()\n",
    "\n",
    "# 4. Gráfico: Distribución de Colesterol Total (si existe)\n",
    "if 'valor_colesterol_total' in df_cleaned.columns:\n",
    "    plt.figure(figsize=(6, 4))\n",
    "    df_cleaned['valor_colesterol_total'].plot(kind='hist', bins=30, edgecolor='black')\n",
    "    plt.title(\"Distribución de Colesterol Total\")\n",
    "    plt.xlabel(\"Colesterol (mg/dL)\")\n",
    "    plt.ylabel(\"Frecuencia\")\n",
    "    plt.tight_layout()\n",
    "    plt.savefig(f\"{output_dir}/fig_distribucion_colesterol.png\")\n",
    "    plt.close()\n",
    "\n",
    "print(\"✅ Gráficas generadas exitosamente (solo para variables disponibles). Carpeta:\", output_dir)"
   ]
  },
  {
   "cell_type": "code",
   "execution_count": 13,
   "id": "3ae0c672-3756-4798-b89a-8b58ba525ce3",
   "metadata": {},
   "outputs": [
    {
     "name": "stdout",
     "output_type": "stream",
     "text": [
      "✅ Gráficas generadas con estilo uniforme y guardadas en: gráficas_limpias\n"
     ]
    }
   ],
   "source": [
    "## Este es el bueno!!!!\n",
    "import os\n",
    "import pandas as pd\n",
    "import matplotlib.pyplot as plt\n",
    "import seaborn as sns\n",
    "\n",
    "# Cargar el dataset limpio\n",
    "df_cleaned = pd.read_csv(\"variables_seleccionadas.csv\")\n",
    "\n",
    "# Calcular correlación con la variable objetivo\n",
    "correlaciones = df_cleaned.drop(columns=[\"FOLIO_I\"]).corr()[\"riesgo_hipertension\"].drop(\"riesgo_hipertension\")\n",
    "\n",
    "# Seleccionar las 4 variables con mayor correlación absoluta\n",
    "top_4 = correlaciones.abs().sort_values(ascending=False).head(4).index.tolist()\n",
    "\n",
    "# Estilo visual similar al ejemplo proporcionado\n",
    "sns.set(style=\"whitegrid\")\n",
    "\n",
    "# Crear carpeta de salida\n",
    "output_dir = \"gráficas_limpias\"\n",
    "os.makedirs(output_dir, exist_ok=True)\n",
    "\n",
    "# Generar y guardar las gráficas\n",
    "for var in top_4:\n",
    "    if var in df_cleaned.columns:\n",
    "        plt.figure(figsize=(6, 4))\n",
    "        sns.histplot(df_cleaned[var], bins=30, kde=True, edgecolor='white')\n",
    "        plt.title(f\"Distribución de {var.replace('_', ' ').capitalize()}\")\n",
    "        plt.xlabel(var.replace('_', ' ').capitalize())\n",
    "        plt.ylabel(\"Frecuencia\")\n",
    "        plt.tight_layout()\n",
    "        plt.savefig(f\"{output_dir}/fig_distribucion_{var}.png\")\n",
    "        plt.close()\n",
    "\n",
    "print(\"✅ Gráficas generadas con estilo uniforme y guardadas en:\", output_dir)\n"
   ]
  },
  {
   "cell_type": "code",
   "execution_count": 3,
   "id": "b03b0b12-72a0-49fa-bd9b-436675fd77db",
   "metadata": {},
   "outputs": [],
   "source": [
    "import pandas as pd\n",
    "import matplotlib.pyplot as plt\n",
    "import os\n",
    "\n",
    "# Cargar el dataset\n",
    "df = pd.read_csv(\"Hipertension_Arterial_Mexico.csv\")\n",
    "\n",
    "# Filtrar registros con estatura menor a 100 cm\n",
    "df_filtrado = df[df[\"estatura\"] < 100]\n",
    "\n",
    "# Crear carpeta si no existe\n",
    "output_dir = \"gráficas_limpias\"\n",
    "os.makedirs(output_dir, exist_ok=True)\n",
    "\n",
    "# Crear la gráfica de dispersión\n",
    "plt.figure(figsize=(8, 4))\n",
    "plt.scatter(df_filtrado[\"estatura\"], df_filtrado[\"peso\"], alpha=0.7, edgecolors='k')\n",
    "plt.title(\"Relación entre estatura y peso en pacientes con estatura < 100 cm\")\n",
    "plt.xlabel(\"Estatura (cm)\")\n",
    "plt.ylabel(\"Peso (kg)\")\n",
    "plt.grid(True)\n",
    "plt.tight_layout()\n",
    "\n",
    "# Guardar la gráfica\n",
    "plt.savefig(f\"{output_dir}/fig_estatura_menor_100_vs_peso.png\")\n",
    "plt.close()"
   ]
  },
  {
   "cell_type": "code",
   "execution_count": null,
   "id": "e04de9c5-a6b7-4f20-8ad9-59f44ad358b1",
   "metadata": {},
   "outputs": [],
   "source": []
  }
 ],
 "metadata": {
  "kernelspec": {
   "display_name": "Python 3 (ipykernel)",
   "language": "python",
   "name": "python3"
  },
  "language_info": {
   "codemirror_mode": {
    "name": "ipython",
    "version": 3
   },
   "file_extension": ".py",
   "mimetype": "text/x-python",
   "name": "python",
   "nbconvert_exporter": "python",
   "pygments_lexer": "ipython3",
   "version": "3.12.2"
  }
 },
 "nbformat": 4,
 "nbformat_minor": 5
}
